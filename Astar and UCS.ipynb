{
  "nbformat": 4,
  "nbformat_minor": 0,
  "metadata": {
    "colab": {
      "name": "AISCL_Prac2-101713.ipynb",
      "provenance": [],
      "collapsed_sections": []
    },
    "kernelspec": {
      "name": "python3",
      "display_name": "Python 3"
    }
  },
  "cells": [
    {
      "cell_type": "code",
      "metadata": {
        "id": "qDdTBVNMV-Ty",
        "colab_type": "code",
        "colab": {}
      },
      "source": [
        "#two sample inputs\n",
        "sample1=[['A','B',60,315],['A','C',125,315],['A','E',115,315],['B','C',130,340],['E','F',60,195],['F','G',55,210],['G','H',90,160],['C','D',90,210],['C','G',70,210],['D','I',150,150],['H','I',85,70]]\n",
        "sample2=[['S','A',6,17],['S','B',5,17],['S','C',10,17],['A','E',6,10],['B','E',6,13],['B','D',7,13],['C','D',6,4],['E','F',6,4],['D','F',6,2],['F','G',1,1]]"
      ],
      "execution_count": null,
      "outputs": []
    },
    {
      "cell_type": "code",
      "metadata": {
        "id": "t2wnn2KKmjG4",
        "colab_type": "code",
        "colab": {
          "base_uri": "https://localhost:8080/",
          "height": 34
        },
        "outputId": "f4ffd70b-30be-4d64-9d02-21a5b88958a0"
      },
      "source": [
        "#adding all vertices in sample 1 to a nodes set\n",
        "temp = []\n",
        "temp1 = []\n",
        "for i in sample1:\n",
        "  temp.append(i[0])\n",
        "  temp1.append(i[1])\n",
        "nodes = set(temp).union(set(temp1))\n",
        "print(nodes)"
      ],
      "execution_count": null,
      "outputs": [
        {
          "output_type": "stream",
          "text": [
            "{'A', 'G', 'D', 'H', 'B', 'F', 'C', 'I', 'E'}\n"
          ],
          "name": "stdout"
        }
      ]
    },
    {
      "cell_type": "code",
      "metadata": {
        "id": "d6JM_WPSzuON",
        "colab_type": "code",
        "colab": {}
      },
      "source": [
        "#UCS_Algorithm\n",
        "def UCS(sample, costs, open, closed, cur_node):\n",
        "  print(\"Open = \",list(open),\" Closed = \",list(closed))\n",
        "  if cur_node in open:\n",
        "    open.remove(cur_node)\n",
        "  closed.add(cur_node)\n",
        "  for i in sample:\n",
        "    if(i[0] == cur_node and costs[i[0]]+i[2] < costs[i[1]]):\n",
        "      open.add(i[1])\n",
        "      costs[i[1]] = costs[i[0]]+i[2]\n",
        "      path[i[1]] = path[i[0]] + ' -> ' + i[1]\n",
        "  costs[cur_node] = 999999\n",
        "  small = min(costs, key=costs.get)\n",
        "  if small not in closed:\n",
        "    UCS(sample, costs, open,closed, small)\n",
        "\n",
        "#A_star_Algorithm\n",
        "def A_star(sample, costs, open, closed, cur_node):\n",
        "  print(\"Open = \",list(open),\" Closed = \",list(closed))\n",
        "  if cur_node in open:\n",
        "    open.remove(cur_node)\n",
        "  closed.add(cur_node)\n",
        "  for i in sample:\n",
        "    if(i[0] == cur_node and costs[i[0]]+i[2]+i[3] < costs[i[1]]):\n",
        "      open.add(i[1])\n",
        "      costs[i[1]] =  costs[i[0]]+i[2]+i[3]\n",
        "      path[i[1]] = path[i[0]] + ' -> ' + i[1]\n",
        "  costs[cur_node] = 999999\n",
        "  small = min(costs, key=costs.get)\n",
        "  if small not in closed:\n",
        "    A_star(sample, costs, open,closed, small)"
      ],
      "execution_count": null,
      "outputs": []
    },
    {
      "cell_type": "code",
      "metadata": {
        "id": "Rt7DjAe3oN4h",
        "colab_type": "code",
        "colab": {
          "base_uri": "https://localhost:8080/",
          "height": 272
        },
        "outputId": "30bbfb0b-b7ee-4e25-bde3-b8481269b8ff"
      },
      "source": [
        "#UCS for sample 1\n",
        "costs = dict()\n",
        "temp_cost = dict()\n",
        "path = dict()\n",
        "for i in nodes:\n",
        "  costs[i] = 999999\n",
        "  path[i] = ' '\n",
        "open = set()\n",
        "closed = set()\n",
        "start_node = input(\"Enter the Start Node: \")\n",
        "open.add(start_node)\n",
        "path[start_node] = start_node\n",
        "costs[start_node] = 0\n",
        "print(\"Using UCS Algorithm: \")\n",
        "UCS(sample1, costs, open, closed, start_node)\n",
        "goal_node = input(\"Enter the Goal Node: \")\n",
        "print(\"\\n\\nPath with least cost is: \",path[goal_node])"
      ],
      "execution_count": null,
      "outputs": [
        {
          "output_type": "stream",
          "text": [
            "Enter the Start Node: A\n",
            "Using UCS Algorithm: \n",
            "Open =  ['A']  Closed =  []\n",
            "Open =  ['C', 'B', 'E']  Closed =  ['A']\n",
            "Open =  ['C', 'E']  Closed =  ['A', 'B']\n",
            "Open =  ['F', 'C']  Closed =  ['A', 'B', 'E']\n",
            "Open =  ['D', 'G', 'F']  Closed =  ['A', 'C', 'B', 'E']\n",
            "Open =  ['D', 'G']  Closed =  ['A', 'B', 'F', 'C', 'E']\n",
            "Open =  ['H', 'D']  Closed =  ['A', 'G', 'B', 'F', 'C', 'E']\n",
            "Open =  ['H', 'I']  Closed =  ['A', 'G', 'D', 'B', 'F', 'C', 'E']\n",
            "Open =  ['I']  Closed =  ['A', 'G', 'D', 'H', 'B', 'F', 'C', 'E']\n",
            "Enter the Goal Node: I\n",
            "\n",
            "\n",
            "Path with least cost is:  A -> C -> D -> I\n"
          ],
          "name": "stdout"
        }
      ]
    },
    {
      "cell_type": "code",
      "metadata": {
        "id": "-gBPfGJitEoc",
        "colab_type": "code",
        "colab": {
          "base_uri": "https://localhost:8080/",
          "height": 272
        },
        "outputId": "3dfc415d-7936-49c3-cb50-0d1e10ce8e27"
      },
      "source": [
        "#A_star for sample 1\n",
        "costs = dict()\n",
        "temp_cost = dict()\n",
        "path = dict()\n",
        "for i in nodes:\n",
        "  costs[i] = 999999\n",
        "  path[i] = ' '\n",
        "open = set()\n",
        "closed = set()\n",
        "start_node = input(\"Enter the Start Node: \")\n",
        "open.add(start_node)\n",
        "path[start_node] = start_node\n",
        "costs[start_node] = 0\n",
        "print(\"Using A_Star Algorithm: \")\n",
        "A_star(sample1, costs, open, closed, start_node)\n",
        "goal_node = input(\"Enter the Goal Node: \")\n",
        "print(\"\\n\\nPath with least cost is: \",path[goal_node])"
      ],
      "execution_count": null,
      "outputs": [
        {
          "output_type": "stream",
          "text": [
            "Enter the Start Node: A\n",
            "Using A_Star Algorithm: \n",
            "Open =  ['A']  Closed =  []\n",
            "Open =  ['C', 'B', 'E']  Closed =  ['A']\n",
            "Open =  ['C', 'E']  Closed =  ['A', 'B']\n",
            "Open =  ['F', 'C']  Closed =  ['A', 'B', 'E']\n",
            "Open =  ['D', 'G', 'F']  Closed =  ['A', 'C', 'B', 'E']\n",
            "Open =  ['D', 'G']  Closed =  ['A', 'B', 'F', 'C', 'E']\n",
            "Open =  ['H', 'D']  Closed =  ['A', 'G', 'B', 'F', 'C', 'E']\n",
            "Open =  ['H', 'I']  Closed =  ['A', 'G', 'D', 'B', 'F', 'C', 'E']\n",
            "Open =  ['I']  Closed =  ['A', 'G', 'D', 'H', 'B', 'F', 'C', 'E']\n",
            "Enter the Goal Node: I\n",
            "\n",
            "\n",
            "Path with least cost is:  A -> C -> D -> I\n"
          ],
          "name": "stdout"
        }
      ]
    },
    {
      "cell_type": "code",
      "metadata": {
        "id": "dMqkNaeBq33S",
        "colab_type": "code",
        "colab": {
          "base_uri": "https://localhost:8080/",
          "height": 34
        },
        "outputId": "959bece2-203d-4715-bd93-6154ccfb725a"
      },
      "source": [
        "#All vertices of sample 2 stored in nodes set\n",
        "temp = []\n",
        "temp1 = []\n",
        "for i in sample2:\n",
        "  temp.append(i[0])\n",
        "  temp1.append(i[1])\n",
        "nodes = set(temp).union(set(temp1))\n",
        "print(nodes)"
      ],
      "execution_count": null,
      "outputs": [
        {
          "output_type": "stream",
          "text": [
            "{'A', 'D', 'G', 'B', 'F', 'C', 'S', 'E'}\n"
          ],
          "name": "stdout"
        }
      ]
    },
    {
      "cell_type": "code",
      "metadata": {
        "id": "zicBnSzcx6re",
        "colab_type": "code",
        "colab": {
          "base_uri": "https://localhost:8080/",
          "height": 255
        },
        "outputId": "1335757b-bd3c-47ce-8d28-44b3540cf995"
      },
      "source": [
        "#UCS for sample 2\n",
        "costs = dict()\n",
        "temp_cost = dict()\n",
        "path = dict()\n",
        "for i in nodes:\n",
        "  costs[i] = 999999\n",
        "  path[i] = ' '\n",
        "open = set()\n",
        "closed = set()\n",
        "start_node = input(\"Enter the Start Node: \")\n",
        "open.add(start_node)\n",
        "path[start_node] = start_node\n",
        "costs[start_node] = 0\n",
        "print(\"Using UCS Algorithm: \")\n",
        "UCS(sample2, costs, open, closed, start_node)\n",
        "goal_node = input(\"Enter the Goal Node: \")\n",
        "print(\"\\n\\nPath with least cost is: \",path[goal_node])"
      ],
      "execution_count": null,
      "outputs": [
        {
          "output_type": "stream",
          "text": [
            "Enter the Start Node: S\n",
            "Using UCS Algorithm: \n",
            "Open =  ['S']  Closed =  []\n",
            "Open =  ['A', 'B', 'C']  Closed =  ['S']\n",
            "Open =  ['A', 'D', 'E', 'C']  Closed =  ['B', 'S']\n",
            "Open =  ['D', 'E', 'C']  Closed =  ['B', 'A', 'S']\n",
            "Open =  ['D', 'E']  Closed =  ['B', 'A', 'S', 'C']\n",
            "Open =  ['F', 'D']  Closed =  ['A', 'B', 'C', 'S', 'E']\n",
            "Open =  ['F']  Closed =  ['A', 'D', 'B', 'C', 'S', 'E']\n",
            "Open =  ['G']  Closed =  ['A', 'D', 'B', 'C', 'F', 'S', 'E']\n",
            "Enter the Goal Node: G\n",
            "\n",
            "\n",
            "Path with least cost is:  S -> B -> E -> F -> G\n"
          ],
          "name": "stdout"
        }
      ]
    },
    {
      "cell_type": "code",
      "metadata": {
        "id": "pi2QJUXg2W7f",
        "colab_type": "code",
        "colab": {
          "base_uri": "https://localhost:8080/",
          "height": 255
        },
        "outputId": "03c04305-1d59-4bd1-c981-cb8e409ea4e4"
      },
      "source": [
        "#A_star for sample 2\n",
        "costs = dict()\n",
        "temp_cost = dict()\n",
        "path = dict()\n",
        "for i in nodes:\n",
        "  costs[i] = 999999\n",
        "  path[i] = ' '\n",
        "open = set()\n",
        "closed = set()\n",
        "start_node = input(\"Enter the Start Node: \")\n",
        "open.add(start_node)\n",
        "path[start_node] = start_node\n",
        "costs[start_node] = 0\n",
        "print(\"Using A_Star Algorithm: \")\n",
        "A_star(sample2, costs, open, closed, start_node)\n",
        "goal_node = input(\"Enter the Goal Node: \")\n",
        "print(\"\\n\\nPath with least cost is: \",path[goal_node])"
      ],
      "execution_count": null,
      "outputs": [
        {
          "output_type": "stream",
          "text": [
            "Enter the Start Node: S\n",
            "Using A_Star Algorithm: \n",
            "Open =  ['S']  Closed =  []\n",
            "Open =  ['A', 'B', 'C']  Closed =  ['S']\n",
            "Open =  ['A', 'D', 'E', 'C']  Closed =  ['B', 'S']\n",
            "Open =  ['D', 'E', 'C']  Closed =  ['B', 'A', 'S']\n",
            "Open =  ['D', 'E']  Closed =  ['B', 'A', 'S', 'C']\n",
            "Open =  ['F', 'E']  Closed =  ['A', 'D', 'B', 'C', 'S']\n",
            "Open =  ['F']  Closed =  ['A', 'D', 'B', 'C', 'S', 'E']\n",
            "Open =  ['G']  Closed =  ['A', 'D', 'B', 'C', 'F', 'S', 'E']\n",
            "Enter the Goal Node: G\n",
            "\n",
            "\n",
            "Path with least cost is:  S -> C -> D -> F -> G\n"
          ],
          "name": "stdout"
        }
      ]
    }
  ]
}